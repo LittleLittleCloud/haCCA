{
 "cells": [
  {
   "cell_type": "markdown",
   "metadata": {},
   "source": [
    "# this transfer H5ad to seurat"
   ]
  },
  {
   "cell_type": "code",
   "execution_count": 4,
   "metadata": {},
   "outputs": [],
   "source": [
    "import anndata\n",
    "import pandas as pd\n",
    "import os"
   ]
  },
  {
   "cell_type": "code",
   "execution_count": 27,
   "metadata": {},
   "outputs": [],
   "source": [
    "cwd=\"I:\\\\mutiomics\\\\ICC\\\\run2_WT\\\\WT1\"\n",
    "data_path = os.path.join(cwd, 'data')\n",
    "work_dir = os.path.join(cwd, 'work')\n",
    "if not os.path.exists(work_dir):\n",
    "    os.makedirs(work_dir)"
   ]
  },
  {
   "cell_type": "code",
   "execution_count": 28,
   "metadata": {},
   "outputs": [],
   "source": [
    "adata = anndata.read_h5ad(os.path.join(cwd, \"WT1_merge.h5ad\"))"
   ]
  },
  {
   "cell_type": "code",
   "execution_count": 29,
   "metadata": {},
   "outputs": [],
   "source": [
    "adata.var.to_csv(os.path.join(cwd, \"anndata_seq_vars.csv\"))"
   ]
  },
  {
   "cell_type": "code",
   "execution_count": 30,
   "metadata": {},
   "outputs": [],
   "source": [
    "adata.obs.to_csv(os.path.join(cwd, \"anndata_seq_obs.csv\"))"
   ]
  },
  {
   "cell_type": "code",
   "execution_count": 31,
   "metadata": {},
   "outputs": [],
   "source": [
    "pd.DataFrame(adata.obsm[\"spatial\"], index=adata.obs_names, columns=[\"x\", \"y\"]).to_csv(os.path.join(cwd, \"anndata_spatial.csv\"))"
   ]
  },
  {
   "cell_type": "code",
   "execution_count": 32,
   "metadata": {},
   "outputs": [],
   "source": [
    "pd.DataFrame(adata.obsm[\"X_umap\"], index=adata.obs_names, columns=[\"x\", \"y\"]).to_csv(os.path.join(cwd, \"anndata_umap.csv\"))"
   ]
  },
  {
   "cell_type": "code",
   "execution_count": 33,
   "metadata": {},
   "outputs": [
    {
     "data": {
      "text/plain": [
       "AxisArrays with keys: X_pca, X_umap, spatial"
      ]
     },
     "execution_count": 33,
     "metadata": {},
     "output_type": "execute_result"
    }
   ],
   "source": [
    "adata.obsm"
   ]
  },
  {
   "cell_type": "code",
   "execution_count": 34,
   "metadata": {},
   "outputs": [
    {
     "name": "stdout",
     "output_type": "stream",
     "text": [
      "adata.X is a dense matrix. Converting to sparse...\n"
     ]
    }
   ],
   "source": [
    "import scipy.sparse\n",
    "\n",
    "# Check if already sparse\n",
    "if isinstance(adata.X, scipy.sparse.spmatrix):\n",
    "    print(\"adata.X is already a sparse matrix.\")\n",
    "else:\n",
    "    print(\"adata.X is a dense matrix. Converting to sparse...\")\n",
    "    adata.X = scipy.sparse.csr_matrix(adata.X)"
   ]
  },
  {
   "cell_type": "code",
   "execution_count": 35,
   "metadata": {},
   "outputs": [],
   "source": [
    "from scipy.io import mmwrite"
   ]
  },
  {
   "cell_type": "code",
   "execution_count": 36,
   "metadata": {},
   "outputs": [],
   "source": [
    "mmwrite(os.path.join(cwd, \"X.mtx\"), adata.X.T)"
   ]
  },
  {
   "cell_type": "code",
   "execution_count": null,
   "metadata": {},
   "outputs": [],
   "source": []
  }
 ],
 "metadata": {
  "kernelspec": {
   "display_name": "Python 3 (ipykernel)",
   "language": "python",
   "name": "python3"
  },
  "language_info": {
   "codemirror_mode": {
    "name": "ipython",
    "version": 3
   },
   "file_extension": ".py",
   "mimetype": "text/x-python",
   "name": "python",
   "nbconvert_exporter": "python",
   "pygments_lexer": "ipython3",
   "version": "3.10.11"
  }
 },
 "nbformat": 4,
 "nbformat_minor": 4
}
